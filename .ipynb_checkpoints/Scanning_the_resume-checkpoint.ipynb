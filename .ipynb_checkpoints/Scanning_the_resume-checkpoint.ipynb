{
 "cells": [
  {
   "cell_type": "code",
   "execution_count": 2,
   "metadata": {},
   "outputs": [],
   "source": [
    "import pandas as pd\n",
    "import PyPDF2"
   ]
  },
  {
   "cell_type": "code",
   "execution_count": 3,
   "metadata": {},
   "outputs": [],
   "source": [
    "pdf_file = open('Project/CV_Neha.pdf', 'rb')"
   ]
  },
  {
   "cell_type": "code",
   "execution_count": 4,
   "metadata": {},
   "outputs": [],
   "source": [
    "read_pdf = PyPDF2.PdfFileReader(pdf_file)"
   ]
  },
  {
   "cell_type": "code",
   "execution_count": 5,
   "metadata": {},
   "outputs": [
    {
     "name": "stdout",
     "output_type": "stream",
     "text": [
      "1\n"
     ]
    }
   ],
   "source": [
    "num_of_pages = read_pdf.getNumPages()\n",
    "print(num_of_pages)"
   ]
  },
  {
   "cell_type": "code",
   "execution_count": 7,
   "metadata": {},
   "outputs": [],
   "source": [
    "page = read_pdf.getPage(0)\n",
    "page_content = page.extractText()\n",
    "# print(page_content)"
   ]
  },
  {
   "cell_type": "code",
   "execution_count": 8,
   "metadata": {},
   "outputs": [],
   "source": [
    "import nltk\n",
    "from nltk.corpus import stopwords"
   ]
  },
  {
   "cell_type": "code",
   "execution_count": 37,
   "metadata": {},
   "outputs": [
    {
     "name": "stdout",
     "output_type": "stream",
     "text": [
      "['i', 'me', 'my', 'myself', 'we', 'our', 'ours', 'ourselves', 'you', \"you're\", \"you've\", \"you'll\", \"you'd\", 'your', 'yours', 'yourself', 'yourselves', 'he', 'him', 'his', 'himself', 'she', \"she's\", 'her', 'hers', 'herself', 'it', \"it's\", 'its', 'itself', 'they', 'them', 'their', 'theirs', 'themselves', 'what', 'which', 'who', 'whom', 'this', 'that', \"that'll\", 'these', 'those', 'am', 'is', 'are', 'was', 'were', 'be', 'been', 'being', 'have', 'has', 'had', 'having', 'do', 'does', 'did', 'doing', 'a', 'an', 'the', 'and', 'but', 'if', 'or', 'because', 'as', 'until', 'while', 'of', 'at', 'by', 'for', 'with', 'about', 'against', 'between', 'into', 'through', 'during', 'before', 'after', 'above', 'below', 'to', 'from', 'up', 'down', 'in', 'out', 'on', 'off', 'over', 'under', 'again', 'further', 'then', 'once', 'here', 'there', 'when', 'where', 'why', 'how', 'all', 'any', 'both', 'each', 'few', 'more', 'most', 'other', 'some', 'such', 'no', 'nor', 'not', 'only', 'own', 'same', 'so', 'than', 'too', 'very', 's', 't', 'can', 'will', 'just', 'don', \"don't\", 'should', \"should've\", 'now', 'd', 'll', 'm', 'o', 're', 've', 'y', 'ain', 'aren', \"aren't\", 'couldn', \"couldn't\", 'didn', \"didn't\", 'doesn', \"doesn't\", 'hadn', \"hadn't\", 'hasn', \"hasn't\", 'haven', \"haven't\", 'isn', \"isn't\", 'ma', 'mightn', \"mightn't\", 'mustn', \"mustn't\", 'needn', \"needn't\", 'shan', \"shan't\", 'shouldn', \"shouldn't\", 'wasn', \"wasn't\", 'weren', \"weren't\", 'won', \"won't\", 'wouldn', \"wouldn't\"]\n"
     ]
    }
   ],
   "source": [
    "print(stopwords.words('english'))"
   ]
  },
  {
   "cell_type": "code",
   "execution_count": 10,
   "metadata": {},
   "outputs": [],
   "source": [
    "# removing punctuations\n",
    "\n",
    "punc = '''!()-[]{};:'\"\\,<>./?@#$%^&*_~ŁŒ'''\n",
    "\n",
    "for ele in page_content:\n",
    "    if ele in punc:\n",
    "        page_content = page_content.replace(ele, \"\")"
   ]
  },
  {
   "cell_type": "code",
   "execution_count": 11,
   "metadata": {},
   "outputs": [],
   "source": [
    "from nltk.corpus import stopwords\n",
    "from nltk.tokenize import word_tokenize\n",
    "stop_words = set(stopwords.words('english'))\n",
    "word_tokens = word_tokenize(page_content)"
   ]
  },
  {
   "cell_type": "code",
   "execution_count": 13,
   "metadata": {},
   "outputs": [],
   "source": [
    "filtered_resume = [w for w in word_tokens if not w.lower() in stop_words]\n",
    "\n",
    "filtered_resume = []\n",
    "\n",
    "for w in word_tokens:\n",
    "    if w not in stop_words:\n",
    "        filtered_resume.append(w)\n",
    " \n",
    "# print(word_tokens)\n",
    "# print(filtered_resume)"
   ]
  },
  {
   "cell_type": "markdown",
   "metadata": {},
   "source": [
    "# Spell Check"
   ]
  },
  {
   "cell_type": "code",
   "execution_count": 23,
   "metadata": {},
   "outputs": [
    {
     "name": "stdout",
     "output_type": "stream",
     "text": [
      "ak15 :   aka\n",
      "engineeri :   engineer\n",
      "may™19 :   may™19\n",
      "scikit :   spirit\n",
      "organiz :   organic\n",
      "hackathon :   walkathon\n",
      "js :   is\n",
      "y™18 :   y™18\n",
      "c++ :   can\n",
      "mar™21 :   mar™21\n",
      "2nd :   and\n",
      "edc :   ed\n",
      "seaborn :   seaborne\n",
      "plugins :   plains\n",
      "mongodb :   mongols\n",
      "agricultur :   agriculture\n",
      "matplotlib :   matplotlib\n",
      "gfg :   gig\n",
      "vertexo :   vertex\n",
      "linkedin :   linkedln\n",
      "webinars :   seminars\n",
      "™16 :   ™16\n",
      "ssl :   sol\n",
      "business™ :   business\n",
      "utio :   tio\n",
      "ux :   up\n",
      "ethereum :   ethereal\n",
      "codechef :   codechef\n",
      "wordpress :   wordless\n",
      "cgpa :   gpa\n",
      "github :   github\n",
      "apr™21 :   apr™21\n",
      "smdyp :   sody\n",
      "jan™20 :   jan™20\n",
      "™18 :   ™18\n",
      "™ :   i\n",
      "™20 :   ™20\n",
      "acm :   am\n",
      "rrro :   raro\n",
      "statem :   state\n",
      "sql :   sol\n",
      "ideathon :   ideation\n",
      "pvt :   put\n",
      "ne™ :   new\n",
      "w :   i\n",
      "ng :   no\n",
      "aug™19 :   aug™19\n",
      "mar™20 :   mar™20\n",
      "dypiemr :   dypiemr\n",
      "july™19 :   july™19\n",
      "lt :   it\n",
      "jan™19 :   jan™19\n",
      "maharashtra :   maharashtrian\n",
      "tensorflow :   tensorflow\n",
      "kamalnayan :   kamalnayan\n",
      "aai :   aii\n",
      "nkale8013gmailcom :   nkale8013gmailcom\n",
      "ipfs :   ifs\n",
      "numpy :   bumpy\n",
      "bajaj :   baja\n",
      "‚how :   how\n",
      "sep™20 :   sep™20\n",
      "n :   i\n",
      "‚ :   i\n",
      "ml :   my\n",
      "sdk :   suk\n",
      "3star :   star\n",
      "rotaract :   retract\n",
      "authorva :   author\n",
      "scrapy :   scrap\n",
      "shatakshi :   shatakshi\n",
      "uiux :   six\n",
      "d :   i\n"
     ]
    }
   ],
   "source": [
    "from spellchecker import SpellChecker\n",
    "\n",
    "spell = SpellChecker()\n",
    "\n",
    "# find those words that may be misspelled\n",
    "misspelled = spell.unknown(word_tokens)\n",
    "\n",
    "for word in misspelled:\n",
    "    print(word, \":  \", spell.correction(word))\n",
    "#     # Get the one `most likely` answer\n",
    "#     print(spell.correction(word))\n",
    "\n",
    "# #     Get a list of `likely` options\n",
    "#     print(spell.candidates(word))\n"
   ]
  },
  {
   "cell_type": "markdown",
   "metadata": {},
   "source": [
    "# Grammar Check"
   ]
  },
  {
   "cell_type": "code",
   "execution_count": 24,
   "metadata": {},
   "outputs": [],
   "source": [
    "# import language_tool_python\n",
    "# import grammar_check\n",
    "\n",
    "# tool = language_tool_python.LanguageTool('en-US')\n",
    " \n",
    "# # get the matches\n",
    "# matches = tool.check(page_content)\n",
    "# matches\n",
    "\n",
    "# my_mistakes = []\n",
    "# my_corrections = []\n",
    "# start_positions = []\n",
    "# end_positions = []\n",
    " \n",
    "# for rules in matches:\n",
    "#     if len(rules.replacements)>0:\n",
    "#         start_positions.append(rules.offset)\n",
    "#         end_positions.append(rules.errorLength+rules.offset)\n",
    "#         my_mistakes.append(text[rules.offset:rules.errorLength+rules.offset])\n",
    "#         my_corrections.append(rules.replacements[0])\n",
    "     \n",
    " \n",
    "     \n",
    "# my_new_text = list(page_content)\n",
    " \n",
    " \n",
    "# for m in range(len(start_positions)):\n",
    "#     for i in range(len(text)):\n",
    "#         my_new_text[start_positions[m]] = my_corrections[m]\n",
    "#         if (i>start_positions[m] and i<end_positions[m]):\n",
    "#             my_new_text[i]=\"\"\n",
    "     \n",
    "# my_new_text = \"\".join(my_new_text)\n",
    "# my_new_text"
   ]
  },
  {
   "cell_type": "code",
   "execution_count": 32,
   "metadata": {},
   "outputs": [],
   "source": [
    "# from gingerit.gingerit import GingerIt\n",
    "# text = \"The smelt of fliwers bring back memories.\"\n",
    "# parser = GingerIt()\n",
    "# parser.parse(text)['result']\n",
    "# # corrected_text = GingerIt().parse(text)\n",
    "# # print(corrected_text['result'])"
   ]
  },
  {
   "cell_type": "code",
   "execution_count": null,
   "metadata": {},
   "outputs": [],
   "source": [
    "# import language_check\n",
    "\n",
    "\n",
    "# # Mention the language keyword\n",
    "# tool = language_check.LanguageTool('en-US')\n",
    "# i = 0\n",
    "\n",
    "# # Path of file which needs to be checked\n",
    "# with open(r'transcript1.txt', 'r') as fin:\n",
    "\t\t\t\n",
    "# \tfor line in fin:\n",
    "# \t\tmatches = tool.check(line)\n",
    "# \t\ti = i + len(matches)\t\n",
    "# \t\tpass\n",
    "\n",
    "# # prints total mistakes which are found\n",
    "# # from the document\n",
    "# print(\"No. of mistakes found in document is \", i)\n",
    "# print()\n",
    "\t\n",
    "# # prints mistake one by one\n",
    "# for mistake in matches:\n",
    "# \tprint(mistake)\n",
    "# \tprint()\n"
   ]
  },
  {
   "cell_type": "markdown",
   "metadata": {},
   "source": [
    "# Grammar Check\n"
   ]
  },
  {
   "cell_type": "code",
   "execution_count": 30,
   "metadata": {},
   "outputs": [],
   "source": [
    "# importing the package  \n",
    "import language_tool_python  \n",
    "  \n",
    "# using the tool  \n",
    "my_tool = language_tool_python.LanguageTool('en-US')  \n",
    "  \n",
    "# given text  \n",
    "# my_text = \"\"\"LanguageTool provides utility to check grammar and spelling errors. We just have to paste the text here and click the 'Check Text' button. Click the colored phrases for for information on potential errors. or we can use this text too see an some of the issues that LanguageTool can dedect. Whot do someone thinks of grammar checkers? Please not that they are not perfect. Style problems get a blue marker: It is 7 P.M. in the evening. The weather was nice on Monday, 22 November 2021\"\"\"   \n",
    "   \n",
    "my_text = page_content\n",
    "# getting the matches  \n",
    "my_matches = my_tool.check(my_text)  \n",
    "  \n",
    "# defining some variables  \n",
    "myMistakes = []  \n",
    "myCorrections = []  \n",
    "startPositions = []  \n",
    "endPositions = []  \n",
    "  \n",
    "# using the for-loop  \n",
    "for rules in my_matches:  \n",
    "    if len(rules.replacements) > 0:  \n",
    "        startPositions.append(rules.offset)  \n",
    "        endPositions.append(rules.errorLength + rules.offset)  \n",
    "        myMistakes.append(my_text[rules.offset : rules.errorLength + rules.offset])  \n",
    "        myCorrections.append(rules.replacements[0])  \n",
    "  \n",
    "# creating new object  \n",
    "my_NewText = list(my_text)   \n",
    "  \n",
    "# rewriting the correct passage  \n",
    "for n in range(len(startPositions)):  \n",
    "    for i in range(len(my_text)):  \n",
    "        my_NewText[startPositions[n]] = myCorrections[n]  \n",
    "        if (i > startPositions[n] and i < endPositions[n]):  \n",
    "            my_NewText[i] = \"\"  \n",
    "  \n",
    "my_NewText = \"\".join(my_NewText)  \n",
    "  \n",
    "# printing the text  \n",
    "# print(my_NewText)  "
   ]
  },
  {
   "cell_type": "code",
   "execution_count": 31,
   "metadata": {},
   "outputs": [
    {
     "name": "stdout",
     "output_type": "stream",
     "text": [
      "[('Neha', 'NEA'), ('Maha', 'Maya'), ('Github', 'GitHub'), ('Codechef', 'Code chef'), ('Patil', 'Patel'), ('Engineeri\\nng', 'Engineering'), ('                                                       ', ' '), ('                                                                                         ', ' '), ('  ', ' '), ('ne', 'né'), ('   ', ' '), ('Kamalnayan', 'Himalayan'), ('                                                                           ', ' '), ('                   ', ' '), ('  ', ' '), ('  ', ' '), ('Scikit', 'Sci kit'), ('Seaborn', 'Seaborne'), ('Organiz\\nation', 'Organization'), ('Tool', 'Tools'), ('Todo', 'To-do'), ('statem\\nent', 'statement'), ('  ', ' '), ('IPFS', 'IPS'), ('Shatakshi', 'Satoshi'), ('a', 'an'), ('UIUX', 'UI UX'), ('Authorva', 'Author'), ('                                                                                                                           ', ' '), ('w\\nith', 'with'), ('Seaborn', 'Seaborne'), ('Scikit', 'Sci kit'), ('Tensorflow', 'TensorFlow'), ('                                                                                        ', ' '), ('Codechef', 'Code chef'), ('Runner Up', 'Runner-Up'), ('utio', 'UIO'), ('‚How', 'show'), ('Agricultur\\ne', 'Agriculture'), ('SMDYP', 'SMTP'), ('VERTEXO', 'VERTEX'), ('Ideathon', 'Ideation'), ('DYPIEMR', 'DOPIER'), ('DYPIEMR', 'DOPIER'), ('Lead\\ning', 'Leading'), ('BODs', 'Bods'), ('intra', 'intro'), ('RRRO', 'RRR'), ('Rotaract', 'Retract'), ('Rotaract', 'Retract'), ('DYPIEMR', 'DOPIER'), ('Runner Up', 'Runner-Up'), ('Intra', 'Intro')]\n"
     ]
    }
   ],
   "source": [
    "print(list(zip(myMistakes, myCorrections)))  "
   ]
  },
  {
   "cell_type": "markdown",
   "metadata": {},
   "source": [
    "# Repetitive words"
   ]
  },
  {
   "cell_type": "code",
   "execution_count": 51,
   "metadata": {},
   "outputs": [
    {
     "name": "stdout",
     "output_type": "stream",
     "text": [
      "How many most common words to print: 20\n",
      "\n",
      "The 20 most common words are as follows\n",
      "\n",
      "application :  5\n",
      "pune :  4\n",
      "india :  4\n",
      "management :  4\n",
      "technologies :  4\n",
      "2020 :  4\n",
      "school :  3\n",
      "android :  3\n",
      "link :  3\n",
      "as :  3\n",
      "problem :  3\n",
      "iot :  3\n",
      "dypiemr :  3\n",
      "codechef :  2\n",
      "education :  2\n",
      "computer :  2\n",
      "science :  2\n",
      "maharashtra :  2\n",
      "22 :  2\n",
      "higher :  2\n"
     ]
    },
    {
     "data": {
      "text/plain": [
       "<AxesSubplot:xlabel='Word'>"
      ]
     },
     "execution_count": 51,
     "metadata": {},
     "output_type": "execute_result"
    },
    {
     "data": {
      "image/png": "[encoded data removed]",
      "text/plain": [
       "<Figure size 432x288 with 1 Axes>"
      ]
     },
     "metadata": {
      "needs_background": "light"
     },
     "output_type": "display_data"
    }
   ],
   "source": [
    "import collections\n",
    "import pandas as pd\n",
    "import matplotlib.pyplot as plt\n",
    "%matplotlib inline\n",
    "\n",
    "a = page_content\n",
    "\n",
    "# Stopwords\n",
    "stopwords = set(line.strip() for line in open('stopwords.txt'))\n",
    "stopwords = stopwords.union(set(['mr','mrs','one','two','said']))\n",
    "# Instantiate a dictionary, and for every word in the file, \n",
    "# Add to the dictionary if it doesn't exist. If it does, increase the count.\n",
    "wordcount = {}\n",
    "# To eliminate duplicates, remember to split by punctuation, and use case demiliters.\n",
    "for word in a.lower().split():\n",
    "#     word = word.replace(\".\",\"\")\n",
    "#     word = word.replace(\",\",\"\")\n",
    "#     word = word.replace(\":\",\"\")\n",
    "#     word = word.replace(\"\\\"\",\"\")\n",
    "#     word = word.replace(\"!\",\"\")\n",
    "#     word = word.replace(\"â€œ\",\"\")\n",
    "#     word = word.replace(\"â€˜\",\"\")\n",
    "#     word = word.replace(\"*\",\"\")\n",
    "#     word = word.replace(\"|\",\"\")\n",
    "    if word not in stopwords:\n",
    "        if word not in wordcount:\n",
    "            wordcount[word] = 1\n",
    "        else:\n",
    "            wordcount[word] += 1\n",
    "# Print most common word\n",
    "n_print = int(input(\"How many most common words to print: \"))\n",
    "print(\"\\nThe {} most common words are as follows\\n\".format(n_print))\n",
    "word_counter = collections.Counter(wordcount)\n",
    "for word, count in word_counter.most_common(n_print):\n",
    "    print(word, \": \", count)\n",
    "# Close the file\n",
    "# file.close()\n",
    "# Create a data frame of the most common words \n",
    "# Draw a bar chart\n",
    "lst = word_counter.most_common(n_print)\n",
    "df = pd.DataFrame(lst, columns = ['Word', 'Count'])\n",
    "df.plot.bar(x='Word',y='Count')"
   ]
  },
  {
   "cell_type": "markdown",
   "metadata": {},
   "source": [
    "# Quantitative words"
   ]
  },
  {
   "cell_type": "code",
   "execution_count": 53,
   "metadata": {},
   "outputs": [
    {
     "name": "stdout",
     "output_type": "stream",
     "text": [
      "many\n"
     ]
    },
    {
     "data": {
      "text/plain": [
       "<AxesSubplot:xlabel='Word'>"
      ]
     },
     "execution_count": 53,
     "metadata": {},
     "output_type": "execute_result"
    },
    {
     "data": {
      "image/png": "[encoded data removed]",
      "text/plain": [
       "<Figure size 432x288 with 1 Axes>"
      ]
     },
     "metadata": {
      "needs_background": "light"
     },
     "output_type": "display_data"
    }
   ],
   "source": [
    "a = page_content\n",
    "\n",
    "\n",
    "stopwords = set(line.strip() for line in open('stopwords_quan.txt'))\n",
    "stopwords = stopwords.union(set(['mr','mrs','one','two','said']))\n",
    "\n",
    "wordcount = {}\n",
    "\n",
    "for word in a.lower().split():\n",
    "\n",
    "    if word in stopwords:\n",
    "        print(word)\n",
    "# Create a data frame of the most common words \n",
    "# Draw a bar chart\n",
    "lst = word_counter.most_common(n_print)\n",
    "df = pd.DataFrame(lst, columns = ['Word', 'Count'])\n",
    "df.plot.bar(x='Word',y='Count')"
   ]
  },
  {
   "cell_type": "code",
   "execution_count": null,
   "metadata": {},
   "outputs": [],
   "source": []
  }
 ],
 "metadata": {
  "kernelspec": {
   "display_name": "Python 3 (ipykernel)",
   "language": "python",
   "name": "python3"
  },
  "language_info": {
   "codemirror_mode": {
    "name": "ipython",
    "version": 3
   },
   "file_extension": ".py",
   "mimetype": "text/x-python",
   "name": "python",
   "nbconvert_exporter": "python",
   "pygments_lexer": "ipython3",
   "version": "3.9.7"
  }
 },
 "nbformat": 4,
 "nbformat_minor": 4
}
