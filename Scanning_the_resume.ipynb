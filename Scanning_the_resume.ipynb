{
 "cells": [
  {
   "cell_type": "code",
   "execution_count": 1,
   "metadata": {},
   "outputs": [],
   "source": [
    "import pandas as pd\n",
    "import PyPDF2"
   ]
  },
  {
   "cell_type": "code",
   "execution_count": 2,
   "metadata": {},
   "outputs": [],
   "source": [
    "pdf_file = open('Project/Aditya_resume_new.pdf', 'rb')"
   ]
  },
  {
   "cell_type": "code",
   "execution_count": 3,
   "metadata": {},
   "outputs": [],
   "source": [
    "read_pdf = PyPDF2.PdfFileReader(pdf_file)"
   ]
  },
  {
   "cell_type": "code",
   "execution_count": 4,
   "metadata": {},
   "outputs": [
    {
     "name": "stdout",
     "output_type": "stream",
     "text": [
      "1\n"
     ]
    }
   ],
   "source": [
    "num_of_pages = read_pdf.getNumPages()\n",
    "print(num_of_pages)"
   ]
  },
  {
   "cell_type": "code",
   "execution_count": 5,
   "metadata": {},
   "outputs": [
    {
     "name": "stdout",
     "output_type": "stream",
     "text": [
      "Aditya\n",
      " Kadam\n",
      " 17 Boulevard\n",
      " Terrace,\n",
      " Boston,\n",
      " MA  adi6496@bu.edu\n",
      " \n",
      "-272-1040  www.linkedin.com/in/adityakadam64\n",
      "www.github.com/adi6496\n",
      "Objective\n",
      " Seeking\n",
      " full\n",
      " time\n",
      " opportunity\n",
      " in Data\n",
      " Science\n",
      " domain starting\n",
      " Jan\n",
      " 2020.  Egucation\n",
      " Master\n",
      " of Science\n",
      " (Computer\n",
      " Information\n",
      " Systems),\n",
      " CGPA\n",
      " - 3.6/4\n",
      " Boston\n",
      " University,\n",
      " MA,\n",
      " USA\n",
      " \n",
      " Relevant Courses: Learning from de\n",
      "ta (Machine Learning), Cloud Computing, Web Analytics and Mining, Data Mining, Data Analytics and\n",
      " Visualization, Database Management and Design, Data Science with Python, Advanced Data Structures and A\n",
      "lgorithms (Coursera),\n",
      " Applied\n",
      " AI with\n",
      " Deep\n",
      " Learning,\n",
      " Big Data\n",
      " Analytics,\n",
      " Advanced Database\n",
      " Management Systems\n",
      " Bachelor\n",
      " of Engineering\n",
      " (Electronics)\n",
      " K. J. Somaiya\n",
      " College\n",
      " of Engineering,\n",
      " Mumbai,\n",
      " India\n",
      " \n",
      " to \n",
      " Technical\n",
      " Skills\n",
      " Languages: Pythn, Golan, \n",
      "R, Matlab, SQL, Java, C!\n",
      "Tools: Eclipse, Amazon AWS, Taiga, WEKA, Tableau, Apache Jmeter, NumPy\n",
      "Frameworks worked upon\n",
      ": Apache Spark, Scikit-Learn, Kafka, TensorFlow, Pytorch, Keras \n",
      "Prof\n",
      "fessional\n",
      " Experience\n",
      " Data\n",
      " Science\n",
      " Intern,\n",
      " PartRunner ,\n",
      " Boston,\n",
      " USA\n",
      " \n",
      " to present\n",
      " Implementing a model to predict delay in truck delivery services based on live traffic data from GoogleMaps Direction Matrx API\n",
      "and historical traffic and weather data\n",
      "Improving efficiency \n",
      "of sales and operations with a better forecast models and implementing \n",
      "an Uber like pricing model\n",
      "Technologies Used: Pandas, Numpy, Google API, Matplotlib, Scikit-Learn\n",
      "Graduate\n",
      " Teaching\n",
      " Assistant,\n",
      " Boston\n",
      " University,\n",
      " Boston,\n",
      " USA\n",
      " \n",
      " to \n",
      " Data\n",
      " Analytics\n",
      " and\n",
      " Visualization\n",
      " Automated the\n",
      " correction\n",
      " of online\n",
      " assignments\n",
      " using\n",
      " R and\n",
      " distributing\n",
      " it as a R package\n",
      "Implemented\n",
      " online\n",
      " review\n",
      " system\n",
      " for\n",
      " students\n",
      " to analyze\n",
      " their\n",
      " performance\n",
      " based on\n",
      " difficulty\n",
      " of the questions\n",
      " and\n",
      " provide\n",
      "them with an\n",
      " insightful\n",
      " report\n",
      " on class\n",
      " performance\n",
      " and statistics\n",
      " for every question\n",
      "\n",
      " to \n",
      " Systems Enginering Intern, Infosys Pvt Ltd, Mysore, India \n",
      "SAP and S/4HANA stream \n",
      "Spearheaded a trainee project \n",
      "to create a python based Hangman game with \n",
      "an interactive UI using agile approach \n",
      "andmaintained a large database \n",
      "of game users\n",
      "Integrated and optimized billing and revenue for Infosys dining hall using \n",
      "SAP S/4HANATechnolo used: Python, SAP, SAP S/4HANA, SQL, MongoDB, Tableau\n",
      "Course\n",
      " Projects\n",
      " Exploring\n",
      " AWS\n",
      " spot\n",
      " instances\n",
      " within\n",
      " Kubernetes\n",
      " clusters\n",
      " \n",
      " Boston\n",
      " University\n",
      "  Cloud\n",
      " Computing (mentored by professionals\n",
      " from RedHat)\n",
      " Designed a controller \n",
      "in\n",
      " Golang which constantly looks \n",
      "to spin up more economical spot instances inside \n",
      "of a Kubernetes cluster\n",
      "to reduce the cost of computing (by 40%) while maintaining \n",
      "the SLA (99 % uptime)\n",
      "Integrated a \n",
      "re-scheduler and a spot-interrupt-handler \n",
      "to distribute the load gracefully and deployed a metrics scraping \n",
      "operatorto monitor the cluster and application\n",
      "Technologies: Kubernetes, AWS SDK, GoLang, AWS EC2, Container, Dker, OpenShift, Apache Jmeter, Prometheus\n",
      "Sentiment\n",
      " Analysis\n",
      " on Movie\n",
      " Reviews\n",
      " (Rotten\n",
      " Tomatoes)\n",
      " \n",
      " to \n",
      " Boston\n",
      " University\n",
      "  Learning\n",
      " from\n",
      " Data\n",
      " Implemented a hybrid \n",
      "of CNN and BLSTM recurrent neural network \n",
      "to predict sentiment \n",
      "of a movie \n",
      "reviewModel leverages user profiling, emotion, and sentiment ftures for sarcasm detection\n",
      "Technologies: Matlab, Pytorch, Tensorflow, Keras, Python, Scikit-Learn, Matplotlib\n",
      "Music\n",
      "  of \n",
      "Recommendation\n",
      " System\n",
      " (Million\n",
      " Song\n",
      " Dataset)\n",
      " \n",
      " to \n",
      " Boston\n",
      " University\n",
      "  Data\n",
      " Science\n",
      " with\n",
      " Python\n",
      " Imported the large data with AWS EMR using Pyspark to create a distributed computing pipele and performed data\n",
      "transformations using Mapreduce\n",
      "Implemented a combination \n",
      "of user based collaborative filtering and item based collaborative filtering using \n",
      "co-occurrence, SVDmatrix and Matrix Factorization\n",
      "Technologies: Pyspark,MapReduce, Matplotlib, Scikit-Learn, Pandas\n",
      "\n"
     ]
    }
   ],
   "source": [
    "page = read_pdf.getPage(0)\n",
    "page_content = page.extractText()\n",
    "print(page_content)"
   ]
  },
  {
   "cell_type": "code",
   "execution_count": 6,
   "metadata": {},
   "outputs": [],
   "source": [
    "import nltk\n",
    "from nltk.corpus import stopwords"
   ]
  },
  {
   "cell_type": "code",
   "execution_count": 7,
   "metadata": {},
   "outputs": [
    {
     "name": "stdout",
     "output_type": "stream",
     "text": [
      "['i', 'me', 'my', 'myself', 'we', 'our', 'ours', 'ourselves', 'you', \"you're\", \"you've\", \"you'll\", \"you'd\", 'your', 'yours', 'yourself', 'yourselves', 'he', 'him', 'his', 'himself', 'she', \"she's\", 'her', 'hers', 'herself', 'it', \"it's\", 'its', 'itself', 'they', 'them', 'their', 'theirs', 'themselves', 'what', 'which', 'who', 'whom', 'this', 'that', \"that'll\", 'these', 'those', 'am', 'is', 'are', 'was', 'were', 'be', 'been', 'being', 'have', 'has', 'had', 'having', 'do', 'does', 'did', 'doing', 'a', 'an', 'the', 'and', 'but', 'if', 'or', 'because', 'as', 'until', 'while', 'of', 'at', 'by', 'for', 'with', 'about', 'against', 'between', 'into', 'through', 'during', 'before', 'after', 'above', 'below', 'to', 'from', 'up', 'down', 'in', 'out', 'on', 'off', 'over', 'under', 'again', 'further', 'then', 'once', 'here', 'there', 'when', 'where', 'why', 'how', 'all', 'any', 'both', 'each', 'few', 'more', 'most', 'other', 'some', 'such', 'no', 'nor', 'not', 'only', 'own', 'same', 'so', 'than', 'too', 'very', 's', 't', 'can', 'will', 'just', 'don', \"don't\", 'should', \"should've\", 'now', 'd', 'll', 'm', 'o', 're', 've', 'y', 'ain', 'aren', \"aren't\", 'couldn', \"couldn't\", 'didn', \"didn't\", 'doesn', \"doesn't\", 'hadn', \"hadn't\", 'hasn', \"hasn't\", 'haven', \"haven't\", 'isn', \"isn't\", 'ma', 'mightn', \"mightn't\", 'mustn', \"mustn't\", 'needn', \"needn't\", 'shan', \"shan't\", 'shouldn', \"shouldn't\", 'wasn', \"wasn't\", 'weren', \"weren't\", 'won', \"won't\", 'wouldn', \"wouldn't\"]\n"
     ]
    }
   ],
   "source": [
    "print(stopwords.words('english'))"
   ]
  },
  {
   "cell_type": "code",
   "execution_count": 8,
   "metadata": {},
   "outputs": [],
   "source": [
    "# removing punctuations\n",
    "\n",
    "punc = '''!()-[]{};:'\"\\,<>./?@#$%^&*_~ŁŒ'''\n",
    "\n",
    "for ele in page_content:\n",
    "    if ele in punc:\n",
    "        page_content = page_content.replace(ele, \"\")"
   ]
  },
  {
   "cell_type": "code",
   "execution_count": 9,
   "metadata": {},
   "outputs": [],
   "source": [
    "from nltk.corpus import stopwords\n",
    "from nltk.tokenize import word_tokenize\n",
    "stop_words = set(stopwords.words('english'))\n",
    "word_tokens = word_tokenize(page_content)"
   ]
  },
  {
   "cell_type": "code",
   "execution_count": 10,
   "metadata": {},
   "outputs": [
    {
     "name": "stdout",
     "output_type": "stream",
     "text": [
      "['Aditya', 'Kadam', '17', 'Boulevard', 'Terrace', 'Boston', 'MA', 'adi6496buedu', '2721040', 'wwwlinkedincominadityakadam64', 'wwwgithubcomadi6496', 'Objective', 'Seeking', 'full', 'time', 'opportunity', 'Data', 'Science', 'domain', 'starting', 'Jan', '2020', 'Egucation', 'Master', 'Science', 'Computer', 'Information', 'Systems', 'CGPA', '364', 'Boston', 'University', 'MA', 'USA', 'Relevant', 'Courses', 'Learning', 'de', 'ta', 'Machine', 'Learning', 'Cloud', 'Computing', 'Web', 'Analytics', 'Mining', 'Data', 'Mining', 'Data', 'Analytics', 'Visualization', 'Database', 'Management', 'Design', 'Data', 'Science', 'Python', 'Advanced', 'Data', 'Structures', 'A', 'lgorithms', 'Coursera', 'Applied', 'AI', 'Deep', 'Learning', 'Big', 'Data', 'Analytics', 'Advanced', 'Database', 'Management', 'Systems', 'Bachelor', 'Engineering', 'Electronics', 'K', 'J', 'Somaiya', 'College', 'Engineering', 'Mumbai', 'India', 'Technical', 'Skills', 'Languages', 'Pythn', 'Golan', 'R', 'Matlab', 'SQL', 'Java', 'C', 'Tools', 'Eclipse', 'Amazon', 'AWS', 'Taiga', 'WEKA', 'Tableau', 'Apache', 'Jmeter', 'NumPy', 'Frameworks', 'worked', 'upon', 'Apache', 'Spark', 'ScikitLearn', 'Kafka', 'TensorFlow', 'Pytorch', 'Keras', 'Prof', 'fessional', 'Experience', 'Data', 'Science', 'Intern', 'PartRunner', 'Boston', 'USA', 'present', 'Implementing', 'model', 'predict', 'delay', 'truck', 'delivery', 'services', 'based', 'live', 'traffic', 'data', 'GoogleMaps', 'Direction', 'Matrx', 'API', 'historical', 'traffic', 'weather', 'data', 'Improving', 'efficiency', 'sales', 'operations', 'better', 'forecast', 'models', 'implementing', 'Uber', 'like', 'pricing', 'model', 'Technologies', 'Used', 'Pandas', 'Numpy', 'Google', 'API', 'Matplotlib', 'ScikitLearn', 'Graduate', 'Teaching', 'Assistant', 'Boston', 'University', 'Boston', 'USA', 'Data', 'Analytics', 'Visualization', 'Automated', 'correction', 'online', 'assignments', 'using', 'R', 'distributing', 'R', 'package', 'Implemented', 'online', 'review', 'system', 'students', 'analyze', 'performance', 'based', 'difficulty', 'questions', 'provide', 'insightful', 'report', 'class', 'performance', 'statistics', 'every', 'question', 'Systems', 'Enginering', 'Intern', 'Infosys', 'Pvt', 'Ltd', 'Mysore', 'India', 'SAP', 'S4HANA', 'stream', 'Spearheaded', 'trainee', 'project', 'create', 'python', 'based', 'Hangman', 'game', 'interactive', 'UI', 'using', 'agile', 'approach', 'andmaintained', 'large', 'database', 'game', 'users', 'Integrated', 'optimized', 'billing', 'revenue', 'Infosys', 'dining', 'hall', 'using', 'SAP', 'S4HANATechnolo', 'used', 'Python', 'SAP', 'SAP', 'S4HANA', 'SQL', 'MongoDB', 'Tableau', 'Course', 'Projects', 'Exploring', 'AWS', 'spot', 'instances', 'within', 'Kubernetes', 'clusters', 'Boston', 'University', 'Cloud', 'Computing', 'mentored', 'professionals', 'RedHat', 'Designed', 'controller', 'Golang', 'constantly', 'looks', 'spin', 'economical', 'spot', 'instances', 'inside', 'Kubernetes', 'cluster', 'reduce', 'cost', 'computing', '40', 'maintaining', 'SLA', '99', 'uptime', 'Integrated', 'rescheduler', 'spotinterrupthandler', 'distribute', 'load', 'gracefully', 'deployed', 'metrics', 'scraping', 'operatorto', 'monitor', 'cluster', 'application', 'Technologies', 'Kubernetes', 'AWS', 'SDK', 'GoLang', 'AWS', 'EC2', 'Container', 'Dker', 'OpenShift', 'Apache', 'Jmeter', 'Prometheus', 'Sentiment', 'Analysis', 'Movie', 'Reviews', 'Rotten', 'Tomatoes', 'Boston', 'University', 'Learning', 'Data', 'Implemented', 'hybrid', 'CNN', 'BLSTM', 'recurrent', 'neural', 'network', 'predict', 'sentiment', 'movie', 'reviewModel', 'leverages', 'user', 'profiling', 'emotion', 'sentiment', 'ftures', 'sarcasm', 'detection', 'Technologies', 'Matlab', 'Pytorch', 'Tensorflow', 'Keras', 'Python', 'ScikitLearn', 'Matplotlib', 'Music', 'Recommendation', 'System', 'Million', 'Song', 'Dataset', 'Boston', 'University', 'Data', 'Science', 'Python', 'Imported', 'large', 'data', 'AWS', 'EMR', 'using', 'Pyspark', 'create', 'distributed', 'computing', 'pipele', 'performed', 'data', 'transformations', 'using', 'Mapreduce', 'Implemented', 'combination', 'user', 'based', 'collaborative', 'filtering', 'item', 'based', 'collaborative', 'filtering', 'using', 'cooccurrence', 'SVDmatrix', 'Matrix', 'Factorization', 'Technologies', 'PysparkMapReduce', 'Matplotlib', 'ScikitLearn', 'Pandas']\n"
     ]
    }
   ],
   "source": [
    "filtered_resume = [w for w in word_tokens if not w.lower() in stop_words]\n",
    "\n",
    "filtered_resume = []\n",
    "\n",
    "for w in word_tokens:\n",
    "    if w not in stop_words:\n",
    "        filtered_resume.append(w)\n",
    " \n",
    "# print(word_tokens)\n",
    "print(filtered_resume)"
   ]
  },
  {
   "cell_type": "markdown",
   "metadata": {},
   "source": [
    "# Spell Check"
   ]
  },
  {
   "cell_type": "code",
   "execution_count": 11,
   "metadata": {},
   "outputs": [
    {
     "name": "stdout",
     "output_type": "stream",
     "text": [
      "pythn :   python\n",
      "rescheduler :   reschedule\n",
      "mongodb :   mongols\n",
      "ec2 :   eco\n",
      "openshift :   openshift\n",
      "matrx :   matrix\n",
      "blstm :   best\n",
      "lgorithms :   algorithms\n",
      "numpy :   bumpy\n",
      "adi6496buedu :   adi6496buedu\n",
      "wwwgithubcomadi6496 :   wwwgithubcomadi6496\n",
      "spotinterrupthandler :   spotinterrupthandler\n",
      "s4hana :   shana\n",
      "cgpa :   gpa\n",
      "pysparkmapreduce :   pysparkmapreduce\n",
      "matplotlib :   matplotlib\n",
      "enginering :   engineering\n",
      "pipele :   piece\n",
      "operatorto :   operator\n",
      "keras :   eras\n",
      "partrunner :   partrunner\n",
      "ltd :   led\n",
      "ftures :   futures\n",
      "emr :   ear\n",
      "golang :   goldang\n",
      "pyspark :   spark\n",
      "mapreduce :   mapreduce\n",
      "coursera :   course\n",
      "tensorflow :   tensorflow\n",
      "svdmatrix :   svdmatrix\n",
      "sdk :   suk\n",
      "wwwlinkedincominadityakadam64 :   wwwlinkedincominadityakadam64\n",
      "j :   i\n",
      "jmeter :   meter\n",
      "pytorch :   torch\n",
      "s4hanatechnolo :   s4hanatechnolo\n",
      "matlab :   atlas\n",
      "cnn :   can\n",
      "weka :   weak\n",
      "egucation :   education\n",
      "scikitlearn :   scikitlearn\n",
      "reviewmodel :   reviewmodel\n",
      "cooccurrence :   occurrence\n",
      "aws :   was\n",
      "r :   i\n",
      "googlemaps :   googlemaps\n",
      "c :   i\n",
      "dker :   deer\n",
      "redhat :   redhats\n",
      "somaiya :   soniya\n",
      "factorization :   factorization\n",
      "infosys :   informs\n",
      "pvt :   put\n",
      "kubernetes :   kubernetes\n",
      "andmaintained :   andmaintained\n",
      "sql :   sol\n",
      "fessional :   essional\n",
      "k :   i\n"
     ]
    }
   ],
   "source": [
    "from spellchecker import SpellChecker\n",
    "\n",
    "spell = SpellChecker()\n",
    "\n",
    "# find those words that may be misspelled\n",
    "misspelled = spell.unknown(word_tokens)\n",
    "\n",
    "for word in misspelled:\n",
    "    print(word, \":  \", spell.correction(word))\n",
    "#     # Get the one `most likely` answer\n",
    "#     print(spell.correction(word))\n",
    "\n",
    "# #     Get a list of `likely` options\n",
    "#     print(spell.candidates(word))\n"
   ]
  },
  {
   "cell_type": "markdown",
   "metadata": {},
   "source": [
    "# Grammar Check"
   ]
  },
  {
   "cell_type": "code",
   "execution_count": 12,
   "metadata": {},
   "outputs": [],
   "source": [
    "# import language_tool_python\n",
    "# import grammar_check\n",
    "\n",
    "# tool = language_tool_python.LanguageTool('en-US')\n",
    " \n",
    "# # get the matches\n",
    "# matches = tool.check(page_content)\n",
    "# matches\n",
    "\n",
    "# my_mistakes = []\n",
    "# my_corrections = []\n",
    "# start_positions = []\n",
    "# end_positions = []\n",
    " \n",
    "# for rules in matches:\n",
    "#     if len(rules.replacements)>0:\n",
    "#         start_positions.append(rules.offset)\n",
    "#         end_positions.append(rules.errorLength+rules.offset)\n",
    "#         my_mistakes.append(text[rules.offset:rules.errorLength+rules.offset])\n",
    "#         my_corrections.append(rules.replacements[0])\n",
    "     \n",
    " \n",
    "     \n",
    "# my_new_text = list(page_content)\n",
    " \n",
    " \n",
    "# for m in range(len(start_positions)):\n",
    "#     for i in range(len(text)):\n",
    "#         my_new_text[start_positions[m]] = my_corrections[m]\n",
    "#         if (i>start_positions[m] and i<end_positions[m]):\n",
    "#             my_new_text[i]=\"\"\n",
    "     \n",
    "# my_new_text = \"\".join(my_new_text)\n",
    "# my_new_text"
   ]
  },
  {
   "cell_type": "code",
   "execution_count": 13,
   "metadata": {},
   "outputs": [],
   "source": [
    "# from gingerit.gingerit import GingerIt\n",
    "# text = \"The smelt of fliwers bring back memories.\"\n",
    "# parser = GingerIt()\n",
    "# parser.parse(text)['result']\n",
    "# # corrected_text = GingerIt().parse(text)\n",
    "# # print(corrected_text['result'])"
   ]
  },
  {
   "cell_type": "code",
   "execution_count": 14,
   "metadata": {},
   "outputs": [],
   "source": [
    "# import language_check\n",
    "\n",
    "\n",
    "# # Mention the language keyword\n",
    "# tool = language_check.LanguageTool('en-US')\n",
    "# i = 0\n",
    "\n",
    "# # Path of file which needs to be checked\n",
    "# with open(r'transcript1.txt', 'r') as fin:\n",
    "\t\t\t\n",
    "# \tfor line in fin:\n",
    "# \t\tmatches = tool.check(line)\n",
    "# \t\ti = i + len(matches)\t\n",
    "# \t\tpass\n",
    "\n",
    "# # prints total mistakes which are found\n",
    "# # from the document\n",
    "# print(\"No. of mistakes found in document is \", i)\n",
    "# print()\n",
    "\t\n",
    "# # prints mistake one by one\n",
    "# for mistake in matches:\n",
    "# \tprint(mistake)\n",
    "# \tprint()\n"
   ]
  },
  {
   "cell_type": "markdown",
   "metadata": {},
   "source": [
    "# Grammar Check\n"
   ]
  },
  {
   "cell_type": "code",
   "execution_count": 15,
   "metadata": {},
   "outputs": [],
   "source": [
    "# importing the package  \n",
    "import language_tool_python  \n",
    "  \n",
    "# using the tool  \n",
    "my_tool = language_tool_python.LanguageTool('en-US')  \n",
    "  \n",
    "# given text  \n",
    "# my_text = \"\"\"LanguageTool provides utility to check grammar and spelling errors. We just have to paste the text here and click the 'Check Text' button. Click the colored phrases for for information on potential errors. or we can use this text too see an some of the issues that LanguageTool can dedect. Whot do someone thinks of grammar checkers? Please not that they are not perfect. Style problems get a blue marker: It is 7 P.M. in the evening. The weather was nice on Monday, 22 November 2021\"\"\"   \n",
    "   \n",
    "my_text = page_content\n",
    "# getting the matches  \n",
    "my_matches = my_tool.check(my_text)  \n",
    "  \n",
    "# defining some variables  \n",
    "myMistakes = []  \n",
    "myCorrections = []  \n",
    "startPositions = []  \n",
    "endPositions = []  \n",
    "  \n",
    "# using the for-loop  \n",
    "for rules in my_matches:  \n",
    "    if len(rules.replacements) > 0:  \n",
    "        startPositions.append(rules.offset)  \n",
    "        endPositions.append(rules.errorLength + rules.offset)  \n",
    "        myMistakes.append(my_text[rules.offset : rules.errorLength + rules.offset])  \n",
    "        myCorrections.append(rules.replacements[0])  \n",
    "  \n",
    "# creating new object  \n",
    "my_NewText = list(my_text)   \n",
    "  \n",
    "# rewriting the correct passage  \n",
    "for n in range(len(startPositions)):  \n",
    "    for i in range(len(my_text)):  \n",
    "        my_NewText[startPositions[n]] = myCorrections[n]  \n",
    "        if (i > startPositions[n] and i < endPositions[n]):  \n",
    "            my_NewText[i] = \"\"  \n",
    "  \n",
    "my_NewText = \"\".join(my_NewText)  \n",
    "  \n",
    "# printing the text  \n",
    "# print(my_NewText)  "
   ]
  },
  {
   "cell_type": "code",
   "execution_count": 16,
   "metadata": {},
   "outputs": [
    {
     "name": "stdout",
     "output_type": "stream",
     "text": [
      "[('Kadam', 'Adam'), ('  ', ' '), ('  ', ' '), ('  ', ' '), ('Egucation', 'Education'), ('de', 'DE'), ('Mining Data Mining Data', 'Mining Data'), ('lgorithms', 'algorithms'), ('Somaiya', 'Somalia'), ('Pythn', 'Python'), ('WEKA', 'WECA'), ('Jmeter', 'Meter'), ('ScikitLearn', 'Scikit-learn'), ('Pytorch', 'PyTorch'), ('fessional', 'sessional'), ('PartRunner', 'Partner'), ('GoogleMaps', 'Google Maps'), ('Matrx', 'Matrix'), ('Numpy', 'NumPy'), ('ScikitLearn', 'Scikit-learn'), ('a', 'an'), ('Enginering', 'Engineering'), ('andmaintained', 'and maintained'), ('SAP SAP', 'SAP'), ('RedHat', 'Red Hat'), ('inside \\nof', 'inside'), ('  ', ' '), ('rescheduler', 'rescheduled'), ('operatorto', 'operator to'), ('GoLang', 'Golang'), ('Dker', 'Deer'), ('Jmeter', 'Meter'), ('ftures', 'futures'), ('Pytorch', 'PyTorch'), ('Tensorflow', 'TensorFlow'), ('ScikitLearn', 'Scikit-learn'), ('Million', 'A Million'), ('Pyspark', 'PySpark'), ('pipele', 'piece'), ('Mapreduce', 'Map reduce'), ('SVDmatrix', 'SVD matrix'), ('ScikitLearn', 'Scikit-learn')]\n"
     ]
    },
    {
     "name": "stderr",
     "output_type": "stream",
     "text": [
      "UsageError: Line magic function `%%capture` not found.\n"
     ]
    }
   ],
   "source": [
    "print(list(zip(myMistakes, myCorrections)))  \n",
    "\n",
    "%%capture cap --no-stderr\n",
    "with open('output.txt', 'w') as f:\n",
    "    f.write(cap.stdout)"
   ]
  },
  {
   "cell_type": "markdown",
   "metadata": {},
   "source": [
    "# Repetitive words"
   ]
  },
  {
   "cell_type": "code",
   "execution_count": 17,
   "metadata": {},
   "outputs": [
    {
     "name": "stdout",
     "output_type": "stream",
     "text": [
      "How many most common words to print: 10\n",
      "\n",
      "The 10 most common words are as follows\n",
      "\n",
      "data :  14\n",
      "boston :  8\n",
      "with :  7\n",
      "using :  6\n",
      "science :  5\n",
      "university :  5\n",
      "python :  5\n",
      "aws :  5\n",
      "based :  5\n",
      "learning :  4\n"
     ]
    },
    {
     "data": {
      "text/plain": [
       "<AxesSubplot:xlabel='Word'>"
      ]
     },
     "execution_count": 17,
     "metadata": {},
     "output_type": "execute_result"
    },
    {
     "data": {
      "image/png": "[encoded data removed]",
      "text/plain": [
       "<Figure size 432x288 with 1 Axes>"
      ]
     },
     "metadata": {
      "needs_background": "light"
     },
     "output_type": "display_data"
    }
   ],
   "source": [
    "import collections\n",
    "import pandas as pd\n",
    "import matplotlib.pyplot as plt\n",
    "%matplotlib inline\n",
    "\n",
    "a = page_content\n",
    "\n",
    "# Stopwords\n",
    "stopwords = set(line.strip() for line in open('stopwords.txt'))\n",
    "stopwords = stopwords.union(set(['mr','mrs','one','two','said']))\n",
    "# Instantiate a dictionary, and for every word in the file, \n",
    "# Add to the dictionary if it doesn't exist. If it does, increase the count.\n",
    "wordcount = {}\n",
    "# To eliminate duplicates, remember to split by punctuation, and use case demiliters.\n",
    "for word in a.lower().split():\n",
    "    if word not in stopwords:\n",
    "        if word not in wordcount:\n",
    "            wordcount[word] = 1\n",
    "        else:\n",
    "            wordcount[word] += 1\n",
    "# Print most common word\n",
    "n_print = int(input(\"How many most common words to print: \"))\n",
    "print(\"\\nThe {} most common words are as follows\\n\".format(n_print))\n",
    "word_counter = collections.Counter(wordcount)\n",
    "for word, count in word_counter.most_common(n_print):\n",
    "    print(word, \": \", count)\n",
    "# Close the file\n",
    "# file.close()\n",
    "# Create a data frame of the most common words \n",
    "# Draw a bar chart\n",
    "lst = word_counter.most_common(n_print)\n",
    "df = pd.DataFrame(lst, columns = ['Word', 'Count'])\n",
    "df.plot.bar(x='Word',y='Count')"
   ]
  },
  {
   "cell_type": "markdown",
   "metadata": {},
   "source": [
    "# Quantitative words"
   ]
  },
  {
   "cell_type": "code",
   "execution_count": 19,
   "metadata": {},
   "outputs": [
    {
     "name": "stdout",
     "output_type": "stream",
     "text": [
      "more\n"
     ]
    },
    {
     "data": {
      "text/plain": [
       "<AxesSubplot:xlabel='Word'>"
      ]
     },
     "execution_count": 19,
     "metadata": {},
     "output_type": "execute_result"
    },
    {
     "data": {
      "image/png": "[encoded data removed]",
      "text/plain": [
       "<Figure size 432x288 with 1 Axes>"
      ]
     },
     "metadata": {
      "needs_background": "light"
     },
     "output_type": "display_data"
    }
   ],
   "source": [
    "a = page_content\n",
    "\n",
    "\n",
    "stopwords = set(line.strip() for line in open('stopwords_quan.txt'))\n",
    "stopwords = stopwords.union(set(['mr','mrs','one','two','said']))\n",
    "\n",
    "wordcount = {}\n",
    "\n",
    "for word in a.lower().split():\n",
    "\n",
    "    if word in stopwords:\n",
    "        print(word)\n",
    "# Create a data frame of the most common words \n",
    "# Draw a bar chart\n",
    "lst = word_counter.most_common(n_print)\n",
    "df = pd.DataFrame(lst, columns = ['Word', 'Count'])\n",
    "df.plot.bar(x='Word',y='Count')"
   ]
  },
  {
   "cell_type": "code",
   "execution_count": null,
   "metadata": {},
   "outputs": [],
   "source": [
    "from nbconvert import HTMLExporter\n",
    "import codecs\n",
    "import nbformat\n",
    "\n",
    "notebook_name = 'Scanning_the_resume.ipynb'\n",
    "output_file_name = 'output.html'\n",
    "\n",
    "exporter = HTMLExporter()\n",
    "output_notebook = nbformat.read(notebook_name, as_version=4)\n",
    "\n",
    "output, resources = exporter.from_notebook_node(output_notebook)\n",
    "codecs.open(output_file_name, 'w', encoding='utf-8').write(output)"
   ]
  },
  {
   "cell_type": "code",
   "execution_count": null,
   "metadata": {},
   "outputs": [],
   "source": []
  }
 ],
 "metadata": {
  "kernelspec": {
   "display_name": "Python 3 (ipykernel)",
   "language": "python",
   "name": "python3"
  },
  "language_info": {
   "codemirror_mode": {
    "name": "ipython",
    "version": 3
   },
   "file_extension": ".py",
   "mimetype": "text/x-python",
   "name": "python",
   "nbconvert_exporter": "python",
   "pygments_lexer": "ipython3",
   "version": "3.9.7"
  }
 },
 "nbformat": 4,
 "nbformat_minor": 4
}
